{
  "nbformat": 4,
  "nbformat_minor": 0,
  "metadata": {
    "colab": {
      "provenance": [],
      "authorship_tag": "ABX9TyPodhY8pixewehyaT07ioi4",
      "include_colab_link": true
    },
    "kernelspec": {
      "name": "python3",
      "display_name": "Python 3"
    },
    "language_info": {
      "name": "python"
    }
  },
  "cells": [
    {
      "cell_type": "markdown",
      "metadata": {
        "id": "view-in-github",
        "colab_type": "text"
      },
      "source": [
        "<a href=\"https://colab.research.google.com/github/resppiano/GH_collab/blob/main/CancellationRoster.ipynb\" target=\"_parent\"><img src=\"https://colab.research.google.com/assets/colab-badge.svg\" alt=\"Open In Colab\"/></a>"
      ]
    },
    {
      "cell_type": "code",
      "execution_count": null,
      "metadata": {
        "id": "9_ld7h1Llodo"
      },
      "outputs": [],
      "source": [
        "import datetime\n",
        "from PIL import Image\n",
        "import pytesseract\n",
        "import cv2\n",
        "\n",
        "# Add the path to the Tesseract executable if it's not in your PATH\n",
        "# pytesseract.pytesseract.tesseract_cmd = r'C:\\path\\to\\tesseract.exe'\n",
        "\n",
        "def get_current_date():\n",
        "    \"\"\"\n",
        "    Get the current date in a readable format.\n",
        "\n",
        "    Returns:\n",
        "    str: The current date as a string.\n",
        "    \"\"\"\n",
        "    return datetime.datetime.now().strftime(\"%Y-%m-%d\")\n",
        "\n",
        "def find_next_to_cancel(working_therapists, therapists):\n",
        "    # ... (rest of the function remains unchanged)\n",
        "\n",
        "def adjust_for_sick_call(sick_therapist, therapists):\n",
        "    # ... (rest of the function remains unchanged)\n",
        "\n",
        "def update_cancellation_list(working_therapists, therapists, sick_therapist=None, requested_cancellation=None):\n",
        "    # ... (rest of the function remains unchanged)\n",
        "\n",
        "def extract_text_from_image(image_path):\n",
        "    \"\"\"\n",
        "    Extract text from an image using OCR (Tesseract).\n",
        "\n",
        "    Args:\n",
        "    image_path (str): The path to the image file.\n",
        "\n",
        "    Returns:\n",
        "    str: The extracted text from the image.\n",
        "    \"\"\"\n",
        "    # Load the image using OpenCV\n",
        "    img = cv2.imread(image_path)\n",
        "\n",
        "    # Convert the image to grayscale to improve OCR accuracy\n",
        "    gray = cv2.cvtColor(img, cv2.COLOR_BGR2GRAY)\n",
        "\n",
        "    # Use Tesseract to do OCR on the image\n",
        "    text = pytesseract.image_to_string(gray)\n",
        "\n",
        "    return text\n",
        "\n",
        "def main():\n",
        "    # ... (rest of the main function remains unchanged)\n",
        "\n",
        "if __name__ == \"__main__\":\n",
        "    main()"
      ]
    },
    {
      "cell_type": "code",
      "source": [],
      "metadata": {
        "id": "NtJSfokBpm0B"
      },
      "execution_count": null,
      "outputs": []
    }
  ]
}